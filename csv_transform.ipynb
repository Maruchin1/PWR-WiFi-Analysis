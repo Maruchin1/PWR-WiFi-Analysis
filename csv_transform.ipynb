{
 "cells": [
  {
   "cell_type": "code",
   "execution_count": 1,
   "metadata": {
    "collapsed": true,
    "pycharm": {
     "is_executing": false
    }
   },
   "outputs": [],
   "source": [
    "import pandas as pd\n",
    "import DataLoader"
   ]
  },
  {
   "cell_type": "code",
   "execution_count": 4,
   "outputs": [],
   "source": [
    "data01 = DataLoader.load_from_folder('data_2015/2015-01')\n",
    "data02 = DataLoader.load_from_folder('data_2015/2015-02')\n",
    "data03 = DataLoader.load_from_folder('data_2015/2015-03')\n",
    "data04 = DataLoader.load_from_folder('data_2015/2015-04')\n",
    "data05 = DataLoader.load_from_folder('data_2015/2015-05')\n",
    "data06 = DataLoader.load_from_folder('data_2015/2015-06')\n",
    "data07 = DataLoader.load_from_folder('data_2015/2015-07')\n",
    "data08 = DataLoader.load_from_folder('data_2015/2015-08')\n",
    "data09 = DataLoader.load_from_folder('data_2015/2015-09')\n",
    "data10 = DataLoader.load_from_folder('data_2015/2015-10')\n",
    "data11 = DataLoader.load_from_folder('data_2015/2015-11')\n",
    "data12 = DataLoader.load_from_folder('data_2015/2015-12')"
   ],
   "metadata": {
    "collapsed": false,
    "pycharm": {
     "name": "#%%\n",
     "is_executing": false
    }
   }
  },
  {
   "cell_type": "code",
   "execution_count": 5,
   "outputs": [],
   "source": [
    "year = pd.concat([\n",
    "    data01,\n",
    "    data02,\n",
    "    data03,\n",
    "    data04,\n",
    "    data05,\n",
    "    data06,\n",
    "    data07,\n",
    "    data08,\n",
    "    data09,\n",
    "    data10,\n",
    "    data11,\n",
    "    data12\n",
    "])"
   ],
   "metadata": {
    "collapsed": false,
    "pycharm": {
     "name": "#%%\n",
     "is_executing": false
    }
   }
  },
  {
   "cell_type": "code",
   "execution_count": 9,
   "outputs": [
    {
     "data": {
      "text/plain": "2295795"
     },
     "metadata": {},
     "output_type": "execute_result",
     "execution_count": 9
    }
   ],
   "source": [
    "grouped_by_hour = year.groupby(['Day', 'Hour', 'ApName'], as_index=False).sum()\n",
    "len(grouped_by_hour)"
   ],
   "metadata": {
    "collapsed": false,
    "pycharm": {
     "name": "#%%\n",
     "is_executing": false
    }
   }
  },
  {
   "cell_type": "code",
   "execution_count": 10,
   "outputs": [],
   "source": [
    "grouped_by_hour.to_csv('2015_all.csv', index=False)"
   ],
   "metadata": {
    "collapsed": false,
    "pycharm": {
     "name": "#%%\n",
     "is_executing": false
    }
   }
  },
  {
   "cell_type": "code",
   "execution_count": 11,
   "outputs": [],
   "source": [
    "data01_grouped = data01.groupby(['Day', 'Hour', 'ApName'], as_index=False).sum()\n",
    "data02_grouped = data02.groupby(['Day', 'Hour', 'ApName'], as_index=False).sum()\n",
    "data03_grouped = data03.groupby(['Day', 'Hour', 'ApName'], as_index=False).sum()\n",
    "data04_grouped = data04.groupby(['Day', 'Hour', 'ApName'], as_index=False).sum()\n",
    "data05_grouped = data05.groupby(['Day', 'Hour', 'ApName'], as_index=False).sum()\n",
    "data06_grouped = data06.groupby(['Day', 'Hour', 'ApName'], as_index=False).sum()\n",
    "data07_grouped = data07.groupby(['Day', 'Hour', 'ApName'], as_index=False).sum()\n",
    "data08_grouped = data08.groupby(['Day', 'Hour', 'ApName'], as_index=False).sum()\n",
    "data09_grouped = data09.groupby(['Day', 'Hour', 'ApName'], as_index=False).sum()\n",
    "data10_grouped = data10.groupby(['Day', 'Hour', 'ApName'], as_index=False).sum()\n",
    "data11_grouped = data11.groupby(['Day', 'Hour', 'ApName'], as_index=False).sum()\n",
    "data12_grouped = data12.groupby(['Day', 'Hour', 'ApName'], as_index=False).sum()"
   ],
   "metadata": {
    "collapsed": false,
    "pycharm": {
     "name": "#%%\n",
     "is_executing": false
    }
   }
  },
  {
   "cell_type": "code",
   "execution_count": 12,
   "outputs": [],
   "source": [
    "data01_grouped.to_csv('2015_01.csv', index=False)\n",
    "data02_grouped.to_csv('2015_02.csv', index=False)\n",
    "data03_grouped.to_csv('2015_03.csv', index=False)\n",
    "data04_grouped.to_csv('2015_04.csv', index=False)\n",
    "data05_grouped.to_csv('2015_05.csv', index=False)\n",
    "data06_grouped.to_csv('2015_06.csv', index=False)\n",
    "data07_grouped.to_csv('2015_07.csv', index=False)\n",
    "data08_grouped.to_csv('2015_08.csv', index=False)\n",
    "data09_grouped.to_csv('2015_09.csv', index=False)\n",
    "data10_grouped.to_csv('2015_10.csv', index=False)\n",
    "data11_grouped.to_csv('2015_11.csv', index=False)\n",
    "data12_grouped.to_csv('2015_12.csv', index=False)\n"
   ],
   "metadata": {
    "collapsed": false,
    "pycharm": {
     "name": "#%%\n",
     "is_executing": false
    }
   }
  }
 ],
 "metadata": {
  "kernelspec": {
   "display_name": "Python 3",
   "language": "python",
   "name": "python3"
  },
  "language_info": {
   "codemirror_mode": {
    "name": "ipython",
    "version": 2
   },
   "file_extension": ".py",
   "mimetype": "text/x-python",
   "name": "python",
   "nbconvert_exporter": "python",
   "pygments_lexer": "ipython2",
   "version": "2.7.6"
  },
  "pycharm": {
   "stem_cell": {
    "cell_type": "raw",
    "source": [],
    "metadata": {
     "collapsed": false
    }
   }
  }
 },
 "nbformat": 4,
 "nbformat_minor": 0
}